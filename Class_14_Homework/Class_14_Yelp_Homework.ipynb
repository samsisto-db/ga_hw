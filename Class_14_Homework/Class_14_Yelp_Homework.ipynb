{
 "cells": [
  {
   "cell_type": "code",
   "execution_count": 12,
   "metadata": {
    "collapsed": false
   },
   "outputs": [],
   "source": [
    "import pandas as pd\n",
    "import seaborn as sns\n",
    "import matplotlib.pyplot as plt\n",
    "from sklearn.cross_validation import train_test_split\n",
    "from sklearn.neighbors import KNeighborsClassifier\n",
    "%matplotlib inline\n",
    "plt.rcParams['figure.figsize'] = (8, 6)\n",
    "plt.rcParams['font.size'] = 14\n",
    "from sklearn import metrics\n",
    "import numpy as np\n",
    "from sklearn.feature_extraction.text import CountVectorizer"
   ]
  },
  {
   "cell_type": "code",
   "execution_count": 3,
   "metadata": {
    "collapsed": false
   },
   "outputs": [
    {
     "data": {
      "text/plain": [
       "(10000, 10)"
      ]
     },
     "execution_count": 3,
     "metadata": {},
     "output_type": "execute_result"
    }
   ],
   "source": [
    "#Read yelp.csv into a DataFrame.\n",
    "yelp = pd.read_table(\"../../DAT-DC-10/data/yelp.csv\", sep = ',')\n",
    "yelp.shape"
   ]
  },
  {
   "cell_type": "code",
   "execution_count": 21,
   "metadata": {
    "collapsed": false
   },
   "outputs": [
    {
     "name": "stderr",
     "output_type": "stream",
     "text": [
      "/Users/samsisto/anaconda/lib/python2.7/site-packages/ipykernel/__main__.py:4: SettingWithCopyWarning: \n",
      "A value is trying to be set on a copy of a slice from a DataFrame.\n",
      "Try using .loc[row_indexer,col_indexer] = value instead\n",
      "\n",
      "See the caveats in the documentation: http://pandas.pydata.org/pandas-docs/stable/indexing.html#indexing-view-versus-copy\n"
     ]
    },
    {
     "data": {
      "text/html": [
       "<div>\n",
       "<table border=\"1\" class=\"dataframe\">\n",
       "  <thead>\n",
       "    <tr style=\"text-align: right;\">\n",
       "      <th></th>\n",
       "      <th>business_id</th>\n",
       "      <th>date</th>\n",
       "      <th>review_id</th>\n",
       "      <th>stars</th>\n",
       "      <th>text</th>\n",
       "      <th>type</th>\n",
       "      <th>user_id</th>\n",
       "      <th>cool</th>\n",
       "      <th>useful</th>\n",
       "      <th>funny</th>\n",
       "    </tr>\n",
       "  </thead>\n",
       "  <tbody>\n",
       "    <tr>\n",
       "      <th>0</th>\n",
       "      <td>9yKzy9PApeiPPOUJEtnvkg</td>\n",
       "      <td>2011-01-26</td>\n",
       "      <td>fWKvX83p0-ka4JS3dc6E5A</td>\n",
       "      <td>1</td>\n",
       "      <td>My wife took me here on my birthday for breakf...</td>\n",
       "      <td>review</td>\n",
       "      <td>rLtl8ZkDX5vH5nAx9C3q5Q</td>\n",
       "      <td>2</td>\n",
       "      <td>5</td>\n",
       "      <td>0</td>\n",
       "    </tr>\n",
       "    <tr>\n",
       "      <th>1</th>\n",
       "      <td>ZRJwVLyzEJq1VAihDhYiow</td>\n",
       "      <td>2011-07-27</td>\n",
       "      <td>IjZ33sJrzXqU-0X6U8NwyA</td>\n",
       "      <td>1</td>\n",
       "      <td>I have no idea why some people give bad review...</td>\n",
       "      <td>review</td>\n",
       "      <td>0a2KyEL0d3Yb1V6aivbIuQ</td>\n",
       "      <td>0</td>\n",
       "      <td>0</td>\n",
       "      <td>0</td>\n",
       "    </tr>\n",
       "    <tr>\n",
       "      <th>3</th>\n",
       "      <td>_1QQZuf4zZOyFCvXc0o6Vg</td>\n",
       "      <td>2010-05-27</td>\n",
       "      <td>G-WvGaISbqqaMHlNnByodA</td>\n",
       "      <td>1</td>\n",
       "      <td>Rosie, Dakota, and I LOVE Chaparral Dog Park!!...</td>\n",
       "      <td>review</td>\n",
       "      <td>uZetl9T0NcROGOyFfughhg</td>\n",
       "      <td>1</td>\n",
       "      <td>2</td>\n",
       "      <td>0</td>\n",
       "    </tr>\n",
       "    <tr>\n",
       "      <th>4</th>\n",
       "      <td>6ozycU1RpktNG2-1BroVtw</td>\n",
       "      <td>2012-01-05</td>\n",
       "      <td>1uJFq2r5QfJG_6ExMRCaGw</td>\n",
       "      <td>1</td>\n",
       "      <td>General Manager Scott Petello is a good egg!!!...</td>\n",
       "      <td>review</td>\n",
       "      <td>vYmM4KTsC8ZfQBg-j5MWkw</td>\n",
       "      <td>0</td>\n",
       "      <td>0</td>\n",
       "      <td>0</td>\n",
       "    </tr>\n",
       "    <tr>\n",
       "      <th>6</th>\n",
       "      <td>zp713qNhx8d9KCJJnrw1xA</td>\n",
       "      <td>2010-02-12</td>\n",
       "      <td>riFQ3vxNpP4rWLk_CSri2A</td>\n",
       "      <td>1</td>\n",
       "      <td>Drop what you're doing and drive here. After I...</td>\n",
       "      <td>review</td>\n",
       "      <td>wFweIWhv2fREZV_dYkz_1g</td>\n",
       "      <td>7</td>\n",
       "      <td>7</td>\n",
       "      <td>4</td>\n",
       "    </tr>\n",
       "    <tr>\n",
       "      <th>9</th>\n",
       "      <td>nMHhuYan8e3cONo3PornJA</td>\n",
       "      <td>2010-08-11</td>\n",
       "      <td>jJAIXA46pU1swYyRCdfXtQ</td>\n",
       "      <td>1</td>\n",
       "      <td>Nobuo shows his unique talents with everything...</td>\n",
       "      <td>review</td>\n",
       "      <td>sUNkXg8-KFtCMQDV6zRzQg</td>\n",
       "      <td>0</td>\n",
       "      <td>1</td>\n",
       "      <td>0</td>\n",
       "    </tr>\n",
       "    <tr>\n",
       "      <th>10</th>\n",
       "      <td>AsSCv0q_BWqIe3mX2JqsOQ</td>\n",
       "      <td>2010-06-16</td>\n",
       "      <td>E11jzpKz9Kw5K7fuARWfRw</td>\n",
       "      <td>1</td>\n",
       "      <td>The oldish man who owns the store is as sweet ...</td>\n",
       "      <td>review</td>\n",
       "      <td>-OMlS6yWkYjVldNhC31wYg</td>\n",
       "      <td>1</td>\n",
       "      <td>3</td>\n",
       "      <td>1</td>\n",
       "    </tr>\n",
       "    <tr>\n",
       "      <th>11</th>\n",
       "      <td>e9nN4XxjdHj4qtKCOPq_vg</td>\n",
       "      <td>2011-10-21</td>\n",
       "      <td>3rPt0LxF7rgmEUrznoH22w</td>\n",
       "      <td>1</td>\n",
       "      <td>Wonderful Vietnamese sandwich shoppe. Their ba...</td>\n",
       "      <td>review</td>\n",
       "      <td>C1rHp3dmepNea7XiouwB6Q</td>\n",
       "      <td>1</td>\n",
       "      <td>1</td>\n",
       "      <td>0</td>\n",
       "    </tr>\n",
       "    <tr>\n",
       "      <th>12</th>\n",
       "      <td>h53YuCiIDfEFSJCQpk8v1g</td>\n",
       "      <td>2010-01-11</td>\n",
       "      <td>cGnKNX3I9rthE0-TH24-qA</td>\n",
       "      <td>1</td>\n",
       "      <td>They have a limited time thing going on right ...</td>\n",
       "      <td>review</td>\n",
       "      <td>UPtysDF6cUDUxq2KY-6Dcg</td>\n",
       "      <td>1</td>\n",
       "      <td>2</td>\n",
       "      <td>0</td>\n",
       "    </tr>\n",
       "    <tr>\n",
       "      <th>17</th>\n",
       "      <td>O510Re68mOy9dU490JTKCg</td>\n",
       "      <td>2010-05-03</td>\n",
       "      <td>j4SIzrIy0WrmW4yr4--Khg</td>\n",
       "      <td>1</td>\n",
       "      <td>okay this is the best place EVER! i grew up sh...</td>\n",
       "      <td>review</td>\n",
       "      <td>u1KWcbPMvXFEEYkZZ0Yktg</td>\n",
       "      <td>0</td>\n",
       "      <td>0</td>\n",
       "      <td>0</td>\n",
       "    </tr>\n",
       "    <tr>\n",
       "      <th>21</th>\n",
       "      <td>tdcjXyFLMKAsvRhURNOkCg</td>\n",
       "      <td>2011-06-28</td>\n",
       "      <td>LmuKVFh03Uz318VKnUWrxA</td>\n",
       "      <td>1</td>\n",
       "      <td>This place shouldn't even be reviewed - becaus...</td>\n",
       "      <td>review</td>\n",
       "      <td>YN3ZLOdg8kpnfbVcIhuEZA</td>\n",
       "      <td>1</td>\n",
       "      <td>1</td>\n",
       "      <td>2</td>\n",
       "    </tr>\n",
       "    <tr>\n",
       "      <th>22</th>\n",
       "      <td>eFA9dqXT5EA_TrMgbo03QQ</td>\n",
       "      <td>2011-07-13</td>\n",
       "      <td>CQYc8hgKxV4enApDkx0IhA</td>\n",
       "      <td>1</td>\n",
       "      <td>first time my friend and I went there... it wa...</td>\n",
       "      <td>review</td>\n",
       "      <td>6lg55RIP23VhjYEBXJ8Njw</td>\n",
       "      <td>0</td>\n",
       "      <td>0</td>\n",
       "      <td>0</td>\n",
       "    </tr>\n",
       "    <tr>\n",
       "      <th>23</th>\n",
       "      <td>IJ0o6b8bJFAbG6MjGfBebQ</td>\n",
       "      <td>2010-09-05</td>\n",
       "      <td>Dx9sfFU6Zn0GYOckijom-g</td>\n",
       "      <td>0</td>\n",
       "      <td>U can go there n check the car out. If u wanna...</td>\n",
       "      <td>review</td>\n",
       "      <td>zRlQEDYd_HKp0VS3hnAffA</td>\n",
       "      <td>0</td>\n",
       "      <td>1</td>\n",
       "      <td>1</td>\n",
       "    </tr>\n",
       "    <tr>\n",
       "      <th>24</th>\n",
       "      <td>JhupPnWfNlMJivnWB5druA</td>\n",
       "      <td>2011-05-22</td>\n",
       "      <td>cFtQnKzn2VDpBedy_TxlvA</td>\n",
       "      <td>1</td>\n",
       "      <td>I love this place! I have been coming here for...</td>\n",
       "      <td>review</td>\n",
       "      <td>13xj6FSvYO0rZVRv5XZp4w</td>\n",
       "      <td>0</td>\n",
       "      <td>1</td>\n",
       "      <td>0</td>\n",
       "    </tr>\n",
       "    <tr>\n",
       "      <th>26</th>\n",
       "      <td>qjmCVYkwP-HDa35jwYucbQ</td>\n",
       "      <td>2013-01-03</td>\n",
       "      <td>kZ4TzrVX6qeF0OvrVTGVEw</td>\n",
       "      <td>1</td>\n",
       "      <td>I love love LOVE this place. My boss (who is i...</td>\n",
       "      <td>review</td>\n",
       "      <td>fpItLlgimq0nRltWOkuJJw</td>\n",
       "      <td>0</td>\n",
       "      <td>0</td>\n",
       "      <td>0</td>\n",
       "    </tr>\n",
       "    <tr>\n",
       "      <th>30</th>\n",
       "      <td>V1nEpIRmEa1768oj_tuxeQ</td>\n",
       "      <td>2011-05-09</td>\n",
       "      <td>dtpJXC5p_sdWDLSobluJ3Q</td>\n",
       "      <td>1</td>\n",
       "      <td>Disclaimer: Like many of you, I am a sucker fo...</td>\n",
       "      <td>review</td>\n",
       "      <td>bCKjygWJZOQHCOzootbvow</td>\n",
       "      <td>0</td>\n",
       "      <td>2</td>\n",
       "      <td>0</td>\n",
       "    </tr>\n",
       "    <tr>\n",
       "      <th>31</th>\n",
       "      <td>vvA3fbps4F9nGlAEYKk_sA</td>\n",
       "      <td>2012-05-04</td>\n",
       "      <td>S9OVpXat8k5YwWCn6FAgXg</td>\n",
       "      <td>0</td>\n",
       "      <td>Disgusting!  Had a Groupon so my daughter and ...</td>\n",
       "      <td>review</td>\n",
       "      <td>8AMn6644NmBf96xGO3w6OA</td>\n",
       "      <td>0</td>\n",
       "      <td>1</td>\n",
       "      <td>0</td>\n",
       "    </tr>\n",
       "    <tr>\n",
       "      <th>32</th>\n",
       "      <td>rxQ2PIjhAx6dgAqUalf99Q</td>\n",
       "      <td>2012-09-09</td>\n",
       "      <td>-v-shjbxoj7hpU62yn6vag</td>\n",
       "      <td>1</td>\n",
       "      <td>Never having dealt with a Discount Tire in Pho...</td>\n",
       "      <td>review</td>\n",
       "      <td>HLbhD2OyiMCUDRR4c1iXaw</td>\n",
       "      <td>0</td>\n",
       "      <td>0</td>\n",
       "      <td>0</td>\n",
       "    </tr>\n",
       "    <tr>\n",
       "      <th>35</th>\n",
       "      <td>o1GIYYZJjM6nM03fQs_uEQ</td>\n",
       "      <td>2011-11-30</td>\n",
       "      <td>ApKbwpYJdnhhgP4NbjQw2Q</td>\n",
       "      <td>0</td>\n",
       "      <td>I've eaten here many times, but none as bad as...</td>\n",
       "      <td>review</td>\n",
       "      <td>iwUN95LIaEr75TZE_JC6bg</td>\n",
       "      <td>0</td>\n",
       "      <td>4</td>\n",
       "      <td>3</td>\n",
       "    </tr>\n",
       "    <tr>\n",
       "      <th>46</th>\n",
       "      <td>aRkYtXfmEKYG-eTDf_qUsw</td>\n",
       "      <td>2009-04-04</td>\n",
       "      <td>Ckk1Cne1GHwzmJfo7M4r2w</td>\n",
       "      <td>1</td>\n",
       "      <td>(Un)fortunately for me, lux is close to my hou...</td>\n",
       "      <td>review</td>\n",
       "      <td>IUWjTmXc3wLVaMHz33inaA</td>\n",
       "      <td>2</td>\n",
       "      <td>1</td>\n",
       "      <td>1</td>\n",
       "    </tr>\n",
       "    <tr>\n",
       "      <th>51</th>\n",
       "      <td>zp713qNhx8d9KCJJnrw1xA</td>\n",
       "      <td>2010-02-01</td>\n",
       "      <td>Bmt1QRDT0GfyXkhOvj_BfQ</td>\n",
       "      <td>1</td>\n",
       "      <td>Fred M. pretty much said what I would say, so ...</td>\n",
       "      <td>review</td>\n",
       "      <td>aqqbh1NZoFk48kp0eqSLdg</td>\n",
       "      <td>3</td>\n",
       "      <td>2</td>\n",
       "      <td>1</td>\n",
       "    </tr>\n",
       "    <tr>\n",
       "      <th>54</th>\n",
       "      <td>K8pM6qQdYu5h6buRE1-_sw</td>\n",
       "      <td>2009-08-06</td>\n",
       "      <td>GOconNmWgg6cJbgwSwrozw</td>\n",
       "      <td>1</td>\n",
       "      <td>Alright, I have been away from Yelp for quite ...</td>\n",
       "      <td>review</td>\n",
       "      <td>yy1SbjeyWiAhWfSr5d0new</td>\n",
       "      <td>2</td>\n",
       "      <td>3</td>\n",
       "      <td>3</td>\n",
       "    </tr>\n",
       "    <tr>\n",
       "      <th>59</th>\n",
       "      <td>E6DnUFy3GoN4DxTqturtug</td>\n",
       "      <td>2010-09-28</td>\n",
       "      <td>nzSOTOZiAb1ITqbRgWKnnQ</td>\n",
       "      <td>1</td>\n",
       "      <td>This restaurant is incredible, and has the bes...</td>\n",
       "      <td>review</td>\n",
       "      <td>U3uT-Phb8iL2iuZpAROZlg</td>\n",
       "      <td>0</td>\n",
       "      <td>0</td>\n",
       "      <td>0</td>\n",
       "    </tr>\n",
       "    <tr>\n",
       "      <th>61</th>\n",
       "      <td>l4vBbCL9QbGiwLuLKwD_bA</td>\n",
       "      <td>2011-11-22</td>\n",
       "      <td>DJVxOfj2Rw9zklC9tU3i1w</td>\n",
       "      <td>0</td>\n",
       "      <td>I have always been a fan of Burlington's deals...</td>\n",
       "      <td>review</td>\n",
       "      <td>EPROVap0M19Y6_4uf3eCmQ</td>\n",
       "      <td>0</td>\n",
       "      <td>0</td>\n",
       "      <td>0</td>\n",
       "    </tr>\n",
       "    <tr>\n",
       "      <th>64</th>\n",
       "      <td>CEswyP-9SsXRNLR9fFGKKw</td>\n",
       "      <td>2012-05-19</td>\n",
       "      <td>GXj4PNAi095-q9ynPYH3kg</td>\n",
       "      <td>0</td>\n",
       "      <td>Another night meeting friends here.  I have to...</td>\n",
       "      <td>review</td>\n",
       "      <td>MjLAe48XNfYlTeFYca5gMw</td>\n",
       "      <td>0</td>\n",
       "      <td>1</td>\n",
       "      <td>2</td>\n",
       "    </tr>\n",
       "    <tr>\n",
       "      <th>65</th>\n",
       "      <td>6Ry-gjGqApTSRZkfdYlLmw</td>\n",
       "      <td>2011-05-04</td>\n",
       "      <td>LN4l4wklQB0IVBjm-vq9TA</td>\n",
       "      <td>0</td>\n",
       "      <td>Not busy at all but took nearly 45 min to get ...</td>\n",
       "      <td>review</td>\n",
       "      <td>rWN1pg3mCF2btJWtG6JmJA</td>\n",
       "      <td>0</td>\n",
       "      <td>1</td>\n",
       "      <td>0</td>\n",
       "    </tr>\n",
       "    <tr>\n",
       "      <th>66</th>\n",
       "      <td>taSsiZAGZSz2gRg7_M4XDw</td>\n",
       "      <td>2011-12-30</td>\n",
       "      <td>L_q9kLaGo33j2Ij8yUIGDw</td>\n",
       "      <td>1</td>\n",
       "      <td>This an incredible church that embraces the pr...</td>\n",
       "      <td>review</td>\n",
       "      <td>0jJhjgr3wPin-8vYnPab6A</td>\n",
       "      <td>0</td>\n",
       "      <td>0</td>\n",
       "      <td>0</td>\n",
       "    </tr>\n",
       "    <tr>\n",
       "      <th>67</th>\n",
       "      <td>3oLy0rlzRI_xiqfQHqC4_g</td>\n",
       "      <td>2011-04-28</td>\n",
       "      <td>dY_p1YkjZxJmREb9Lfc5vw</td>\n",
       "      <td>1</td>\n",
       "      <td>This is our favorite breakfast place. The food...</td>\n",
       "      <td>review</td>\n",
       "      <td>-yg_AMAU2HNh48zcuQ13mw</td>\n",
       "      <td>0</td>\n",
       "      <td>1</td>\n",
       "      <td>0</td>\n",
       "    </tr>\n",
       "    <tr>\n",
       "      <th>69</th>\n",
       "      <td>N5iW2JG5e-QyUh7brRNSfw</td>\n",
       "      <td>2012-01-05</td>\n",
       "      <td>-_hed9F2kUDdb4oa1CXKIA</td>\n",
       "      <td>1</td>\n",
       "      <td>I had looked at several invitation websites al...</td>\n",
       "      <td>review</td>\n",
       "      <td>xP3o3-r0KRUnZqBSdIGJjw</td>\n",
       "      <td>0</td>\n",
       "      <td>0</td>\n",
       "      <td>0</td>\n",
       "    </tr>\n",
       "    <tr>\n",
       "      <th>71</th>\n",
       "      <td>NNGJQF3WeIHzGzweCpZ-VA</td>\n",
       "      <td>2011-04-23</td>\n",
       "      <td>jNewOjPp56NMDrKlajrgFQ</td>\n",
       "      <td>0</td>\n",
       "      <td>Yikes, reading other reviews I realize my bad ...</td>\n",
       "      <td>review</td>\n",
       "      <td>5je-Jg8tq5BWxJtDBmTK2Q</td>\n",
       "      <td>0</td>\n",
       "      <td>6</td>\n",
       "      <td>1</td>\n",
       "    </tr>\n",
       "  </tbody>\n",
       "</table>\n",
       "</div>"
      ],
      "text/plain": [
       "               business_id        date               review_id  stars  \\\n",
       "0   9yKzy9PApeiPPOUJEtnvkg  2011-01-26  fWKvX83p0-ka4JS3dc6E5A      1   \n",
       "1   ZRJwVLyzEJq1VAihDhYiow  2011-07-27  IjZ33sJrzXqU-0X6U8NwyA      1   \n",
       "3   _1QQZuf4zZOyFCvXc0o6Vg  2010-05-27  G-WvGaISbqqaMHlNnByodA      1   \n",
       "4   6ozycU1RpktNG2-1BroVtw  2012-01-05  1uJFq2r5QfJG_6ExMRCaGw      1   \n",
       "6   zp713qNhx8d9KCJJnrw1xA  2010-02-12  riFQ3vxNpP4rWLk_CSri2A      1   \n",
       "9   nMHhuYan8e3cONo3PornJA  2010-08-11  jJAIXA46pU1swYyRCdfXtQ      1   \n",
       "10  AsSCv0q_BWqIe3mX2JqsOQ  2010-06-16  E11jzpKz9Kw5K7fuARWfRw      1   \n",
       "11  e9nN4XxjdHj4qtKCOPq_vg  2011-10-21  3rPt0LxF7rgmEUrznoH22w      1   \n",
       "12  h53YuCiIDfEFSJCQpk8v1g  2010-01-11  cGnKNX3I9rthE0-TH24-qA      1   \n",
       "17  O510Re68mOy9dU490JTKCg  2010-05-03  j4SIzrIy0WrmW4yr4--Khg      1   \n",
       "21  tdcjXyFLMKAsvRhURNOkCg  2011-06-28  LmuKVFh03Uz318VKnUWrxA      1   \n",
       "22  eFA9dqXT5EA_TrMgbo03QQ  2011-07-13  CQYc8hgKxV4enApDkx0IhA      1   \n",
       "23  IJ0o6b8bJFAbG6MjGfBebQ  2010-09-05  Dx9sfFU6Zn0GYOckijom-g      0   \n",
       "24  JhupPnWfNlMJivnWB5druA  2011-05-22  cFtQnKzn2VDpBedy_TxlvA      1   \n",
       "26  qjmCVYkwP-HDa35jwYucbQ  2013-01-03  kZ4TzrVX6qeF0OvrVTGVEw      1   \n",
       "30  V1nEpIRmEa1768oj_tuxeQ  2011-05-09  dtpJXC5p_sdWDLSobluJ3Q      1   \n",
       "31  vvA3fbps4F9nGlAEYKk_sA  2012-05-04  S9OVpXat8k5YwWCn6FAgXg      0   \n",
       "32  rxQ2PIjhAx6dgAqUalf99Q  2012-09-09  -v-shjbxoj7hpU62yn6vag      1   \n",
       "35  o1GIYYZJjM6nM03fQs_uEQ  2011-11-30  ApKbwpYJdnhhgP4NbjQw2Q      0   \n",
       "46  aRkYtXfmEKYG-eTDf_qUsw  2009-04-04  Ckk1Cne1GHwzmJfo7M4r2w      1   \n",
       "51  zp713qNhx8d9KCJJnrw1xA  2010-02-01  Bmt1QRDT0GfyXkhOvj_BfQ      1   \n",
       "54  K8pM6qQdYu5h6buRE1-_sw  2009-08-06  GOconNmWgg6cJbgwSwrozw      1   \n",
       "59  E6DnUFy3GoN4DxTqturtug  2010-09-28  nzSOTOZiAb1ITqbRgWKnnQ      1   \n",
       "61  l4vBbCL9QbGiwLuLKwD_bA  2011-11-22  DJVxOfj2Rw9zklC9tU3i1w      0   \n",
       "64  CEswyP-9SsXRNLR9fFGKKw  2012-05-19  GXj4PNAi095-q9ynPYH3kg      0   \n",
       "65  6Ry-gjGqApTSRZkfdYlLmw  2011-05-04  LN4l4wklQB0IVBjm-vq9TA      0   \n",
       "66  taSsiZAGZSz2gRg7_M4XDw  2011-12-30  L_q9kLaGo33j2Ij8yUIGDw      1   \n",
       "67  3oLy0rlzRI_xiqfQHqC4_g  2011-04-28  dY_p1YkjZxJmREb9Lfc5vw      1   \n",
       "69  N5iW2JG5e-QyUh7brRNSfw  2012-01-05  -_hed9F2kUDdb4oa1CXKIA      1   \n",
       "71  NNGJQF3WeIHzGzweCpZ-VA  2011-04-23  jNewOjPp56NMDrKlajrgFQ      0   \n",
       "\n",
       "                                                 text    type  \\\n",
       "0   My wife took me here on my birthday for breakf...  review   \n",
       "1   I have no idea why some people give bad review...  review   \n",
       "3   Rosie, Dakota, and I LOVE Chaparral Dog Park!!...  review   \n",
       "4   General Manager Scott Petello is a good egg!!!...  review   \n",
       "6   Drop what you're doing and drive here. After I...  review   \n",
       "9   Nobuo shows his unique talents with everything...  review   \n",
       "10  The oldish man who owns the store is as sweet ...  review   \n",
       "11  Wonderful Vietnamese sandwich shoppe. Their ba...  review   \n",
       "12  They have a limited time thing going on right ...  review   \n",
       "17  okay this is the best place EVER! i grew up sh...  review   \n",
       "21  This place shouldn't even be reviewed - becaus...  review   \n",
       "22  first time my friend and I went there... it wa...  review   \n",
       "23  U can go there n check the car out. If u wanna...  review   \n",
       "24  I love this place! I have been coming here for...  review   \n",
       "26  I love love LOVE this place. My boss (who is i...  review   \n",
       "30  Disclaimer: Like many of you, I am a sucker fo...  review   \n",
       "31  Disgusting!  Had a Groupon so my daughter and ...  review   \n",
       "32  Never having dealt with a Discount Tire in Pho...  review   \n",
       "35  I've eaten here many times, but none as bad as...  review   \n",
       "46  (Un)fortunately for me, lux is close to my hou...  review   \n",
       "51  Fred M. pretty much said what I would say, so ...  review   \n",
       "54  Alright, I have been away from Yelp for quite ...  review   \n",
       "59  This restaurant is incredible, and has the bes...  review   \n",
       "61  I have always been a fan of Burlington's deals...  review   \n",
       "64  Another night meeting friends here.  I have to...  review   \n",
       "65  Not busy at all but took nearly 45 min to get ...  review   \n",
       "66  This an incredible church that embraces the pr...  review   \n",
       "67  This is our favorite breakfast place. The food...  review   \n",
       "69  I had looked at several invitation websites al...  review   \n",
       "71  Yikes, reading other reviews I realize my bad ...  review   \n",
       "\n",
       "                   user_id  cool  useful  funny  \n",
       "0   rLtl8ZkDX5vH5nAx9C3q5Q     2       5      0  \n",
       "1   0a2KyEL0d3Yb1V6aivbIuQ     0       0      0  \n",
       "3   uZetl9T0NcROGOyFfughhg     1       2      0  \n",
       "4   vYmM4KTsC8ZfQBg-j5MWkw     0       0      0  \n",
       "6   wFweIWhv2fREZV_dYkz_1g     7       7      4  \n",
       "9   sUNkXg8-KFtCMQDV6zRzQg     0       1      0  \n",
       "10  -OMlS6yWkYjVldNhC31wYg     1       3      1  \n",
       "11  C1rHp3dmepNea7XiouwB6Q     1       1      0  \n",
       "12  UPtysDF6cUDUxq2KY-6Dcg     1       2      0  \n",
       "17  u1KWcbPMvXFEEYkZZ0Yktg     0       0      0  \n",
       "21  YN3ZLOdg8kpnfbVcIhuEZA     1       1      2  \n",
       "22  6lg55RIP23VhjYEBXJ8Njw     0       0      0  \n",
       "23  zRlQEDYd_HKp0VS3hnAffA     0       1      1  \n",
       "24  13xj6FSvYO0rZVRv5XZp4w     0       1      0  \n",
       "26  fpItLlgimq0nRltWOkuJJw     0       0      0  \n",
       "30  bCKjygWJZOQHCOzootbvow     0       2      0  \n",
       "31  8AMn6644NmBf96xGO3w6OA     0       1      0  \n",
       "32  HLbhD2OyiMCUDRR4c1iXaw     0       0      0  \n",
       "35  iwUN95LIaEr75TZE_JC6bg     0       4      3  \n",
       "46  IUWjTmXc3wLVaMHz33inaA     2       1      1  \n",
       "51  aqqbh1NZoFk48kp0eqSLdg     3       2      1  \n",
       "54  yy1SbjeyWiAhWfSr5d0new     2       3      3  \n",
       "59  U3uT-Phb8iL2iuZpAROZlg     0       0      0  \n",
       "61  EPROVap0M19Y6_4uf3eCmQ     0       0      0  \n",
       "64  MjLAe48XNfYlTeFYca5gMw     0       1      2  \n",
       "65  rWN1pg3mCF2btJWtG6JmJA     0       1      0  \n",
       "66  0jJhjgr3wPin-8vYnPab6A     0       0      0  \n",
       "67  -yg_AMAU2HNh48zcuQ13mw     0       1      0  \n",
       "69  xP3o3-r0KRUnZqBSdIGJjw     0       0      0  \n",
       "71  5je-Jg8tq5BWxJtDBmTK2Q     0       6      1  "
      ]
     },
     "execution_count": 21,
     "metadata": {},
     "output_type": "execute_result"
    }
   ],
   "source": [
    "#Create a new DataFrame that only contains the 5-star and 1-star reviews.\n",
    "yelp_reviews = yelp[(yelp.stars == 5) | (yelp.stars == 1)]\n",
    "yelp_reviews.shape\n",
    "yelp_reviews['stars'] = yelp_reviews.stars.map({1:0, 5:1})\n",
    "yelp_reviews.head(30)"
   ]
  },
  {
   "cell_type": "code",
   "execution_count": 22,
   "metadata": {
    "collapsed": true
   },
   "outputs": [],
   "source": [
    "#Split the new DataFrame into training and testing sets, using the review text as the only feature and the \n",
    "#star rating as the response.\n",
    "\n",
    "X = yelp_reviews.text\n",
    "y = yelp_reviews.stars\n",
    "\n",
    "#train/test split\n",
    "X_train, X_test, y_train, y_test = train_test_split(X, y, random_state = 123)"
   ]
  },
  {
   "cell_type": "code",
   "execution_count": 23,
   "metadata": {
    "collapsed": false
   },
   "outputs": [
    {
     "data": {
      "text/plain": [
       "<3064x16612 sparse matrix of type '<type 'numpy.int64'>'\n",
       "\twith 237964 stored elements in Compressed Sparse Row format>"
      ]
     },
     "execution_count": 23,
     "metadata": {},
     "output_type": "execute_result"
    }
   ],
   "source": [
    "#Use CountVectorizer to create document-term matrices from X_train and X_test.\n",
    "vect = CountVectorizer()\n",
    "vect.fit(X_train)\n",
    "X_train_dtm = vect.transform(X_train)\n",
    "X_train_dtm"
   ]
  },
  {
   "cell_type": "code",
   "execution_count": 24,
   "metadata": {
    "collapsed": false
   },
   "outputs": [
    {
     "data": {
      "text/plain": [
       "<1022x16612 sparse matrix of type '<type 'numpy.int64'>'\n",
       "\twith 76496 stored elements in Compressed Sparse Row format>"
      ]
     },
     "execution_count": 24,
     "metadata": {},
     "output_type": "execute_result"
    }
   ],
   "source": [
    "X_test_dtm = vect.transform(X_test)\n",
    "X_test_dtm"
   ]
  },
  {
   "cell_type": "code",
   "execution_count": 25,
   "metadata": {
    "collapsed": false
   },
   "outputs": [
    {
     "data": {
      "text/plain": [
       "MultinomialNB(alpha=1.0, class_prior=None, fit_prior=True)"
      ]
     },
     "execution_count": 25,
     "metadata": {},
     "output_type": "execute_result"
    }
   ],
   "source": [
    "#Use Naive Bayes to predict the star rating for reviews in the testing set, and calculate the accuracy.\n",
    "from sklearn.naive_bayes import MultinomialNB\n",
    "nb = MultinomialNB()\n",
    "nb.fit(X_train_dtm, y_train)"
   ]
  },
  {
   "cell_type": "code",
   "execution_count": 26,
   "metadata": {
    "collapsed": true
   },
   "outputs": [],
   "source": [
    "y_pred_class = nb.predict(X_test_dtm)"
   ]
  },
  {
   "cell_type": "code",
   "execution_count": 27,
   "metadata": {
    "collapsed": false
   },
   "outputs": [
    {
     "name": "stdout",
     "output_type": "stream",
     "text": [
      "0.909980430528\n"
     ]
    }
   ],
   "source": [
    "from sklearn import metrics\n",
    "print metrics.accuracy_score(y_test, y_pred_class)"
   ]
  },
  {
   "cell_type": "code",
   "execution_count": 29,
   "metadata": {
    "collapsed": false
   },
   "outputs": [
    {
     "name": "stdout",
     "output_type": "stream",
     "text": [
      "0.938788659794\n"
     ]
    }
   ],
   "source": [
    "#Calculate the AUC.\n",
    "y_pred_prob = nb.predict_proba(X_test_dtm)[:, 1]\n",
    "y_pred_prob\n",
    "print metrics.roc_auc_score(y_test, y_pred_prob)"
   ]
  },
  {
   "cell_type": "code",
   "execution_count": 30,
   "metadata": {
    "collapsed": false
   },
   "outputs": [
    {
     "data": {
      "text/plain": [
       "<matplotlib.text.Text at 0x10ccd29d0>"
      ]
     },
     "execution_count": 30,
     "metadata": {},
     "output_type": "execute_result"
    },
    {
     "data": {
      "image/png": "[encoded data removed]",
      "text/plain": [
       "<matplotlib.figure.Figure at 0x10b985b50>"
      ]
     },
     "metadata": {},
     "output_type": "display_data"
    }
   ],
   "source": [
    "# plot ROC curve\n",
    "fpr, tpr, thresholds = metrics.roc_curve(y_test, y_pred_prob)\n",
    "plt.plot(fpr, tpr)\n",
    "plt.xlim([0.0, 1.0])\n",
    "plt.ylim([0.0, 1.0])\n",
    "plt.xlabel('False Positive Rate (1 - Specificity)')\n",
    "plt.ylabel('True Positive Rate (Sensitivity)')"
   ]
  },
  {
   "cell_type": "code",
   "execution_count": 31,
   "metadata": {
    "collapsed": false
   },
   "outputs": [
    {
     "name": "stdout",
     "output_type": "stream",
     "text": [
      "[[118  76]\n",
      " [ 16 812]]\n"
     ]
    }
   ],
   "source": [
    "# confusion matrix\n",
    "print metrics.confusion_matrix(y_test, y_pred_class)"
   ]
  },
  {
   "cell_type": "code",
   "execution_count": 32,
   "metadata": {
    "collapsed": true
   },
   "outputs": [],
   "source": [
    "confusion = metrics.confusion_matrix(y_test, y_pred_class)\n",
    "TP = confusion[1][1] #correctly predicted 5 star review\n",
    "TN = confusion[0][0] #correctly predicted 1 star review\n",
    "FP = confusion[0][1] #incorrectly predicted 5 star review, actually a 1 star review\n",
    "FN = confusion[1][0] #incorrectly predicted 1 star review, actually a 5 star review"
   ]
  },
  {
   "cell_type": "code",
   "execution_count": 33,
   "metadata": {
    "collapsed": false
   },
   "outputs": [
    {
     "name": "stdout",
     "output_type": "stream",
     "text": [
      "True Positives: 812\n",
      "True Negatives: 118\n",
      "False Positives: 76\n",
      "False Negatives: 16\n"
     ]
    }
   ],
   "source": [
    "print 'True Positives:', TP\n",
    "print 'True Negatives:', TN\n",
    "print 'False Positives:', FP\n",
    "print 'False Negatives:', FN"
   ]
  },
  {
   "cell_type": "code",
   "execution_count": 34,
   "metadata": {
    "collapsed": false
   },
   "outputs": [
    {
     "name": "stdout",
     "output_type": "stream",
     "text": [
      "0.980676328502\n"
     ]
    }
   ],
   "source": [
    "#sensitivity\n",
    "print TP / float(TP+FN)"
   ]
  },
  {
   "cell_type": "code",
   "execution_count": 35,
   "metadata": {
    "collapsed": false
   },
   "outputs": [
    {
     "name": "stdout",
     "output_type": "stream",
     "text": [
      "0.60824742268\n"
     ]
    }
   ],
   "source": [
    "#specificity\n",
    "print TN / float(TN+FP)"
   ]
  },
  {
   "cell_type": "code",
   "execution_count": null,
   "metadata": {
    "collapsed": true
   },
   "outputs": [],
   "source": [
    "#As we can see from the results for the calculation of the sensitivity and specificity, this model has a high\n",
    "#sensitivity and a lower specificity. This high sensitivity quantifies how \"badly\" we want to avoid false negatives.\n",
    "#In this case, we can see that this model does very well in terms of avoiding false negatives because we have a high\n",
    "#sensitivity. On the contrary, our specificity is lower, meaning that we are not as apt to avoid false positives with\n",
    "#this model. Looking at the calculations above, we can see that we have a high number of false positives out of the\n",
    "#total number of 1-star reviews, leading to our lower specificity rating."
   ]
  },
  {
   "cell_type": "code",
   "execution_count": 40,
   "metadata": {
    "collapsed": false
   },
   "outputs": [
    {
     "data": {
      "text/plain": [
       "\"Every time I've been there they have messed up my order in some way. The first time I ordered a sonic blast w Carmel. They charged me for Carmel but there was none in it plus the bottom of the cup was busted and my ice cream was leaking out. The next I went I ordered a reese sonic blast and a snickers, they were both snickers. Very upset I haven't been back and I love that place.\""
      ]
     },
     "execution_count": 40,
     "metadata": {},
     "output_type": "execute_result"
    }
   ],
   "source": [
    "#Browse through the review text for some of the false positives and false negatives. Based on your knowledge of how\n",
    "#Naive Bayes works, do you have any theories about why the model is incorrectly classifying these reviews?\n",
    "\n",
    "#In terms of the false positives, most of the time it looks like the 1-star review includes a token or two that is highly\n",
    "#correlated with a 5-star review. Eg. \"I used to love that place...\". The same goes for the false negatives. These 5-star\n",
    "#reviews contain a few tokens that on their own, would indicate a 1 star review (\"blows\", \"bad\", \"delayed\"). But when you\n",
    "#look at them in context, they actually indicate 5-star reviews (\"blows its competition out of the water\",\n",
    "#\"feel bad for other airlines\", \"delayed only twice\").\n",
    "\n",
    "#false positives\n",
    "X_test[y_test < y_pred_class]\n",
    "X_test[2462]"
   ]
  },
  {
   "cell_type": "code",
   "execution_count": 41,
   "metadata": {
    "collapsed": false
   },
   "outputs": [
    {
     "data": {
      "text/plain": [
       "\"Southwest blows its competitors so far out of the water I actually feel bad for the other airlines.  \\n1. Of the countless times I've flown with them, my flight has been delayed only twice and both times less than one hour.\\n2. NO BAG FEES.  \\n3. Nine times out of ten the lowest price.\\n4. Killer customer service, laced with sarcasm, veiled cynicism, and high efficiency.  I love it.\\n5. They never give me an inquisitive look when I order a cocktail on the super early morning flights.  Thank you for not judging me, SW Flight Attendants.\""
      ]
     },
     "execution_count": 41,
     "metadata": {},
     "output_type": "execute_result"
    }
   ],
   "source": [
    "#false negatives\n",
    "X_test[y_test > y_pred_class]\n",
    "X_test[2902]"
   ]
  },
  {
   "cell_type": "code",
   "execution_count": 43,
   "metadata": {
    "collapsed": false
   },
   "outputs": [
    {
     "data": {
      "text/plain": [
       "<matplotlib.text.Text at 0x10e5c6c50>"
      ]
     },
     "execution_count": 43,
     "metadata": {},
     "output_type": "execute_result"
    },
    {
     "data": {
      "image/png": "[encoded data removed]",
      "text/plain": [
       "<matplotlib.figure.Figure at 0x10b985d10>"
      ]
     },
     "metadata": {},
     "output_type": "display_data"
    }
   ],
   "source": [
    "#Let's pretend that you want to balance sensitivity and specificity. You can achieve this by changing the threshold \n",
    "#for predicting a 5-star review. What threshold approximately balances sensitivity and specificity?\n",
    "\n",
    "%matplotlib inline\n",
    "import matplotlib.pyplot as plt\n",
    "plt.hist(y_pred_prob)\n",
    "plt.xlim(0, 1)\n",
    "plt.xlabel('Predicted probability of 5-star review')\n",
    "plt.ylabel('Frequency')"
   ]
  },
  {
   "cell_type": "code",
   "execution_count": 62,
   "metadata": {
    "collapsed": false
   },
   "outputs": [
    {
     "data": {
      "text/plain": [
       "array([[165,  29],\n",
       "       [ 68, 760]])"
      ]
     },
     "execution_count": 62,
     "metadata": {},
     "output_type": "execute_result"
    }
   ],
   "source": [
    "# increase specificity by raising the threshold for predicting 5-star review\n",
    "import numpy as np\n",
    "y_pred_class = np.where(y_pred_prob > 0.99, 1, 0)\n",
    "confusion2 = metrics.confusion_matrix(y_test, y_pred_class)\n",
    "confusion2"
   ]
  },
  {
   "cell_type": "code",
   "execution_count": 63,
   "metadata": {
    "collapsed": true
   },
   "outputs": [],
   "source": [
    "TP2 = confusion2[1][1] #correctly predicted 5 star review\n",
    "TN2 = confusion2[0][0] #correctly predicted 1 star review\n",
    "FP2 = confusion2[0][1] #incorrectly predicted 5 star review, actually a 1 star review\n",
    "FN2 = confusion2[1][0] #incorrectly predicted 1 star review, actually a 5 star review"
   ]
  },
  {
   "cell_type": "code",
   "execution_count": 64,
   "metadata": {
    "collapsed": false
   },
   "outputs": [
    {
     "name": "stdout",
     "output_type": "stream",
     "text": [
      "0.917874396135\n"
     ]
    }
   ],
   "source": [
    "#sensitivity\n",
    "print TP2 / float(TP2+FN2)"
   ]
  },
  {
   "cell_type": "code",
   "execution_count": 65,
   "metadata": {
    "collapsed": false
   },
   "outputs": [
    {
     "name": "stdout",
     "output_type": "stream",
     "text": [
      "0.850515463918\n"
     ]
    }
   ],
   "source": [
    "#specificity\n",
    "print TN2 / float(TN2+FP2)"
   ]
  },
  {
   "cell_type": "code",
   "execution_count": 66,
   "metadata": {
    "collapsed": true
   },
   "outputs": [],
   "source": [
    "#Let's see how well Naive Bayes performs when all reviews are included, rather than just 1-star and 5-star reviews:\n",
    "X = yelp.text\n",
    "y = yelp.stars\n",
    "\n",
    "#train/test split\n",
    "X_train, X_test, y_train, y_test = train_test_split(X, y, random_state = 123)"
   ]
  },
  {
   "cell_type": "code",
   "execution_count": 67,
   "metadata": {
    "collapsed": false
   },
   "outputs": [
    {
     "data": {
      "text/plain": [
       "<2500x25667 sparse matrix of type '<type 'numpy.int64'>'\n",
       "\twith 202057 stored elements in Compressed Sparse Row format>"
      ]
     },
     "execution_count": 67,
     "metadata": {},
     "output_type": "execute_result"
    }
   ],
   "source": [
    "vect = CountVectorizer()\n",
    "vect.fit(X_train)\n",
    "X_train_dtm = vect.transform(X_train)\n",
    "X_train_dtm\n",
    "\n",
    "X_test_dtm = vect.transform(X_test)\n",
    "X_test_dtm"
   ]
  },
  {
   "cell_type": "code",
   "execution_count": 68,
   "metadata": {
    "collapsed": true
   },
   "outputs": [],
   "source": [
    "from sklearn.naive_bayes import MultinomialNB\n",
    "nb = MultinomialNB()\n",
    "nb.fit(X_train_dtm, y_train)\n",
    "y_pred_class = nb.predict(X_test_dtm)"
   ]
  },
  {
   "cell_type": "code",
   "execution_count": 69,
   "metadata": {
    "collapsed": false
   },
   "outputs": [
    {
     "name": "stdout",
     "output_type": "stream",
     "text": [
      "0.4912\n"
     ]
    }
   ],
   "source": [
    "from sklearn import metrics\n",
    "print metrics.accuracy_score(y_test, y_pred_class)"
   ]
  },
  {
   "cell_type": "code",
   "execution_count": 77,
   "metadata": {
    "collapsed": false
   },
   "outputs": [
    {
     "data": {
      "text/plain": [
       "4    0.3628\n",
       "Name: stars, dtype: float64"
      ]
     },
     "execution_count": 77,
     "metadata": {},
     "output_type": "execute_result"
    }
   ],
   "source": [
    "#null accuracy\n",
    "y_test.value_counts().head(1) / len(y_test)"
   ]
  },
  {
   "cell_type": "code",
   "execution_count": 78,
   "metadata": {
    "collapsed": false
   },
   "outputs": [
    {
     "name": "stdout",
     "output_type": "stream",
     "text": [
      "[[ 55  18  18  68  15]\n",
      " [ 24  12  48 136  29]\n",
      " [  3   6  39 268  33]\n",
      " [ 10   1  23 642 231]\n",
      " [  4   0   4 333 480]]\n"
     ]
    }
   ],
   "source": [
    "print metrics.confusion_matrix(y_test, y_pred_class)"
   ]
  },
  {
   "cell_type": "code",
   "execution_count": null,
   "metadata": {
    "collapsed": true
   },
   "outputs": [],
   "source": []
  }
 ],
 "metadata": {
  "kernelspec": {
   "display_name": "Python 2",
   "language": "python",
   "name": "python2"
  },
  "language_info": {
   "codemirror_mode": {
    "name": "ipython",
    "version": 2
   },
   "file_extension": ".py",
   "mimetype": "text/x-python",
   "name": "python",
   "nbconvert_exporter": "python",
   "pygments_lexer": "ipython2",
   "version": "2.7.11"
  }
 },
 "nbformat": 4,
 "nbformat_minor": 0
}
