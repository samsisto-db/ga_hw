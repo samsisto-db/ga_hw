{
 "cells": [
  {
   "cell_type": "markdown",
   "metadata": {},
   "source": [
    "# Project Proposal"
   ]
  },
  {
   "cell_type": "markdown",
   "metadata": {},
   "source": [
    "##What is the question you hope to answer?"
   ]
  },
  {
   "cell_type": "markdown",
   "metadata": {},
   "source": [
    "Can we predict an individuals restaurant preferences and future restaurant visits based on data from Yelp (Past reviews, demographics, etc.)?"
   ]
  },
  {
   "cell_type": "markdown",
   "metadata": {},
   "source": [
    "##What data are you planning to use to answer that question?"
   ]
  },
  {
   "cell_type": "markdown",
   "metadata": {},
   "source": [
    "The data that I plan to use to answer that question will come from the Yelp API. Scraping webpages/APIs is something that I have never done before, but after learning more about this from class this past week it's something that I would like to experiment with. By choosing a small subset of restaurants in a given area, I can scrape the reviews from the Yelp API to get information about users preferences. Once I have gathered enough data from the Yelp API, I can start to dig into the data further and see what that tells us about user preferences and what restaurants they may be likely to try."
   ]
  },
  {
   "cell_type": "markdown",
   "metadata": {},
   "source": [
    "##What do you know about the data so far?"
   ]
  },
  {
   "cell_type": "markdown",
   "metadata": {},
   "source": [
    "After examining the Yelp API and asociated documentation, I've determined that we can get reviews that users write about a given restaurant through the API. Upon further inspection, it seems as though you can only retrieve up to 3 reviews from a particular business. But there are academic datasets that Yelp makes available for projects like the one that I am pursuing. Over the next few days, I am going to explore getting access to the academic data sets that Yelp makes available. "
   ]
  },
  {
   "cell_type": "markdown",
   "metadata": {},
   "source": [
    "##Why did you choose this topic?"
   ]
  },
  {
   "cell_type": "markdown",
   "metadata": {},
   "source": [
    "My two roommates and I just moved to a new area in DC and have been exploring and eating at many new restaurants. I thought this would be a really interesting topic to pursue given our love for good restaurants and good food."
   ]
  }
 ],
 "metadata": {
  "kernelspec": {
   "display_name": "Python 2",
   "language": "python",
   "name": "python2"
  },
  "language_info": {
   "codemirror_mode": {
    "name": "ipython",
    "version": 2
   },
   "file_extension": ".py",
   "mimetype": "text/x-python",
   "name": "python",
   "nbconvert_exporter": "python",
   "pygments_lexer": "ipython2",
   "version": "2.7.11"
  }
 },
 "nbformat": 4,
 "nbformat_minor": 0
}
